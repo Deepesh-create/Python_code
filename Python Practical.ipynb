{
 "cells": [
  {
   "cell_type": "markdown",
   "id": "088a31ea",
   "metadata": {},
   "source": [
    "# Python Practical code"
   ]
  },
  {
   "cell_type": "raw",
   "id": "12e51310",
   "metadata": {},
   "source": [
    "# 1. Write a menu driven program to convert the given temperature from Fahrenheit to Celsius and vice versa depending upon users choice."
   ]
  },
  {
   "cell_type": "code",
   "execution_count": 8,
   "id": "caa98892",
   "metadata": {},
   "outputs": [
    {
     "name": "stdout",
     "output_type": "stream",
     "text": [
      "1. Celsius to Fahrenheit.\n",
      "2. Fahrenheit to Celsius.\n",
      "Enter your choice : 2\n",
      "Enter temperature in fahrenheit: 10\n",
      "10.00 Fahrenheit is: -12.22 Celsius\n"
     ]
    }
   ],
   "source": [
    "print(\"1. Celsius to Fahrenheit.\")\n",
    "print(\"2. Fahrenheit to Celsius.\")\n",
    "choice = int(input(\"Enter your choice : \"))\n",
    "if choice == 1:\n",
    "    celsius = float(input(\"Enter temperature in celsius: \"))\n",
    "    fahrenheit = (celsius * 9/5) + 32\n",
    "    print('%0.2f Celsius is: %0.2f Fahrenheit' %(celsius, fahrenheit))\n",
    "\n",
    "elif choice == 2:\n",
    "    fahrenheit = float(input(\"Enter temperature in fahrenheit: \"))\n",
    "    celsius = (fahrenheit - 32) * 5/9\n",
    "    print('%0.2f Fahrenheit is: %0.2f Celsius' %(fahrenheit, celsius))\n",
    "else:\n",
    "    print(\"Invalid Choice\")"
   ]
  },
  {
   "cell_type": "raw",
   "id": "7f629c6b",
   "metadata": {},
   "source": [
    "# 2. Write a Program to calculate total marks, percentage and grade of a student. Marks obtained in each of the three subjects are to be input by the user. Assign grades according to  the following criteria:\n",
    "Grade A: Percentage >=80\n",
    "Grade B: Percentage>=70 and <80\n",
    "Grade C: Percentage>=60 and <70\n",
    "Grade D: Percentage>=40 and <60\n",
    "Grade E: Percentage<40"
   ]
  },
  {
   "cell_type": "code",
   "execution_count": 3,
   "id": "01376fe1",
   "metadata": {},
   "outputs": [
    {
     "name": "stdout",
     "output_type": "stream",
     "text": [
      "Enter marks of three subjects (seperated by comma) : 90,80.5,60\n",
      "76.83333333333333\n",
      "Grade B\n"
     ]
    }
   ],
   "source": [
    "mark_1 , mark_2 , mark_3 = [eval(x) for x in input(\"Enter marks of three subjects (seperated by comma) : \").split(\",\")]\n",
    "Total_marks = mark_1 + mark_2 + mark_3\n",
    "Average = Total_marks/3\n",
    "Percentage = (Total_marks/300)*100\n",
    "print(Percentage)\n",
    "if Percentage >= 80:\n",
    "    print(\"Grade A\")\n",
    "elif Percentage >= 70:\n",
    "    print(\"Grade B\")\n",
    "elif Percentage >= 60:\n",
    "    print(\"Grade c\")\n",
    "elif Percentage >= 40:\n",
    "    print(\"Grade D\")\n",
    "else:\n",
    "    print(\"Grade E\")"
   ]
  },
  {
   "cell_type": "raw",
   "id": "3f584c68",
   "metadata": {},
   "source": [
    "# 3. Write a menu-driven program, using user-defined functions to find the area of rectangle, square, circle and triangle by accepting suitable input parameters from user."
   ]
  },
  {
   "cell_type": "code",
   "execution_count": 7,
   "id": "f609f475",
   "metadata": {},
   "outputs": [
    {
     "name": "stdout",
     "output_type": "stream",
     "text": [
      "On which geometric shape would you like to operate on?\n",
      "1. Rectangle \n",
      "2. Square \n",
      "3. Circle \n",
      "4. Triangle \n"
     ]
    },
    {
     "ename": "KeyboardInterrupt",
     "evalue": "Interrupted by user",
     "output_type": "error",
     "traceback": [
      "\u001b[0;31m---------------------------------------------------------------------------\u001b[0m",
      "\u001b[0;31mKeyboardInterrupt\u001b[0m                         Traceback (most recent call last)",
      "Cell \u001b[0;32mIn[7], line 28\u001b[0m\n\u001b[1;32m     25\u001b[0m \u001b[38;5;28mprint\u001b[39m(\u001b[38;5;124m\"\u001b[39m\u001b[38;5;124m3. Circle \u001b[39m\u001b[38;5;124m\"\u001b[39m)\n\u001b[1;32m     26\u001b[0m \u001b[38;5;28mprint\u001b[39m(\u001b[38;5;124m\"\u001b[39m\u001b[38;5;124m4. Triangle \u001b[39m\u001b[38;5;124m\"\u001b[39m)\n\u001b[0;32m---> 28\u001b[0m inp \u001b[38;5;241m=\u001b[39m \u001b[38;5;28mint\u001b[39m(\u001b[38;5;28minput\u001b[39m(\u001b[38;5;124m\"\u001b[39m\u001b[38;5;124mEnter your choice(1-4) : \u001b[39m\u001b[38;5;124m\"\u001b[39m))\n\u001b[1;32m     30\u001b[0m \u001b[38;5;28;01mif\u001b[39;00m(inp \u001b[38;5;241m==\u001b[39m \u001b[38;5;241m1\u001b[39m):\n\u001b[1;32m     31\u001b[0m     a \u001b[38;5;241m=\u001b[39m \u001b[38;5;28mfloat\u001b[39m(\u001b[38;5;28minput\u001b[39m(\u001b[38;5;124m\"\u001b[39m\u001b[38;5;124mEnter the length of the rectangle: \u001b[39m\u001b[38;5;124m\"\u001b[39m))\n",
      "File \u001b[0;32m~/anaconda3/lib/python3.11/site-packages/ipykernel/kernelbase.py:1202\u001b[0m, in \u001b[0;36mKernel.raw_input\u001b[0;34m(self, prompt)\u001b[0m\n\u001b[1;32m   1200\u001b[0m     msg \u001b[38;5;241m=\u001b[39m \u001b[38;5;124m\"\u001b[39m\u001b[38;5;124mraw_input was called, but this frontend does not support input requests.\u001b[39m\u001b[38;5;124m\"\u001b[39m\n\u001b[1;32m   1201\u001b[0m     \u001b[38;5;28;01mraise\u001b[39;00m StdinNotImplementedError(msg)\n\u001b[0;32m-> 1202\u001b[0m \u001b[38;5;28;01mreturn\u001b[39;00m \u001b[38;5;28mself\u001b[39m\u001b[38;5;241m.\u001b[39m_input_request(\n\u001b[1;32m   1203\u001b[0m     \u001b[38;5;28mstr\u001b[39m(prompt),\n\u001b[1;32m   1204\u001b[0m     \u001b[38;5;28mself\u001b[39m\u001b[38;5;241m.\u001b[39m_parent_ident[\u001b[38;5;124m\"\u001b[39m\u001b[38;5;124mshell\u001b[39m\u001b[38;5;124m\"\u001b[39m],\n\u001b[1;32m   1205\u001b[0m     \u001b[38;5;28mself\u001b[39m\u001b[38;5;241m.\u001b[39mget_parent(\u001b[38;5;124m\"\u001b[39m\u001b[38;5;124mshell\u001b[39m\u001b[38;5;124m\"\u001b[39m),\n\u001b[1;32m   1206\u001b[0m     password\u001b[38;5;241m=\u001b[39m\u001b[38;5;28;01mFalse\u001b[39;00m,\n\u001b[1;32m   1207\u001b[0m )\n",
      "File \u001b[0;32m~/anaconda3/lib/python3.11/site-packages/ipykernel/kernelbase.py:1245\u001b[0m, in \u001b[0;36mKernel._input_request\u001b[0;34m(self, prompt, ident, parent, password)\u001b[0m\n\u001b[1;32m   1242\u001b[0m \u001b[38;5;28;01mexcept\u001b[39;00m \u001b[38;5;167;01mKeyboardInterrupt\u001b[39;00m:\n\u001b[1;32m   1243\u001b[0m     \u001b[38;5;66;03m# re-raise KeyboardInterrupt, to truncate traceback\u001b[39;00m\n\u001b[1;32m   1244\u001b[0m     msg \u001b[38;5;241m=\u001b[39m \u001b[38;5;124m\"\u001b[39m\u001b[38;5;124mInterrupted by user\u001b[39m\u001b[38;5;124m\"\u001b[39m\n\u001b[0;32m-> 1245\u001b[0m     \u001b[38;5;28;01mraise\u001b[39;00m \u001b[38;5;167;01mKeyboardInterrupt\u001b[39;00m(msg) \u001b[38;5;28;01mfrom\u001b[39;00m \u001b[38;5;28;01mNone\u001b[39;00m\n\u001b[1;32m   1246\u001b[0m \u001b[38;5;28;01mexcept\u001b[39;00m \u001b[38;5;167;01mException\u001b[39;00m:\n\u001b[1;32m   1247\u001b[0m     \u001b[38;5;28mself\u001b[39m\u001b[38;5;241m.\u001b[39mlog\u001b[38;5;241m.\u001b[39mwarning(\u001b[38;5;124m\"\u001b[39m\u001b[38;5;124mInvalid Message:\u001b[39m\u001b[38;5;124m\"\u001b[39m, exc_info\u001b[38;5;241m=\u001b[39m\u001b[38;5;28;01mTrue\u001b[39;00m)\n",
      "\u001b[0;31mKeyboardInterrupt\u001b[0m: Interrupted by user"
     ]
    }
   ],
   "source": [
    "import math\n",
    "\n",
    "def area_rectangle(length, breadth):\n",
    "    area = length * breadth\n",
    "    return area\n",
    "\n",
    "def area_square(side):\n",
    "    area = pow(side,2)\n",
    "    return area\n",
    "\n",
    "def area_circle(r):\n",
    "    per = (math.pi * r * r)\n",
    "    return round(per, 2)\n",
    "\n",
    "def area_triangleSide(a, b, c):\n",
    "    s = (a + b + c) / 2\n",
    "    area = math.sqrt(s * (s - a) * (s - b) * (s - c))\n",
    "    return round(area,2)\n",
    "\n",
    "#main\n",
    "\n",
    "print(\"On which geometric shape would you like to operate on?\")\n",
    "print(\"1. Rectangle \")\n",
    "print(\"2. Square \")\n",
    "print(\"3. Circle \")\n",
    "print(\"4. Triangle \")\n",
    "\n",
    "inp = int(input(\"Enter your choice(1-4) : \"))\n",
    "\n",
    "if(inp == 1):\n",
    "    a = float(input(\"Enter the length of the rectangle: \"))\n",
    "    b = float(input(\"Enter the breadth of the rectangle: \"))\n",
    "    res = area_rectangle(a,b)\n",
    "    print(\"Area of rectangle with sides\",a,\",\",b,\" is \",res)\n",
    "\n",
    "elif(inp == 2):\n",
    "    a = float(input(\"Enter the side of the square: \"))\n",
    "    res = area_square(a)\n",
    "    print(\"Area of square with side\",a,\" is \",res)\n",
    "\n",
    "elif(inp == 3):\n",
    "    a = float(input(\"Enter the radius of the circle: \"))\n",
    "    res = area_circle(a)\n",
    "    print(\"Area of the circle with radius\",a,\" is \",res)\n",
    "\n",
    "elif(inp == 4):\n",
    "    a = float(input(\"Enter the side 1 of triangle: \"))\n",
    "    b = float(input(\"Enter the side 2 of triangle: \"))\n",
    "    c = float(input(\"Enter the side 3 of triangle: \"))\n",
    "    res = area_triangleSide(a, b, c)\n",
    "    print(\"Area of triangle with sides:\",a,\",\",b,\",\",c,\" is \",res)\n",
    "    \n",
    "else:\n",
    "    print(\"Invalid Input !!!\")"
   ]
  },
  {
   "cell_type": "raw",
   "id": "327ddaaf",
   "metadata": {},
   "source": [
    "# 4. Write a Program to display the first n terms of Fibonacci series."
   ]
  },
  {
   "cell_type": "code",
   "execution_count": 40,
   "id": "951987d1",
   "metadata": {},
   "outputs": [
    {
     "name": "stdout",
     "output_type": "stream",
     "text": [
      "Enter the number of nth terms to display: 9\n",
      "0 1 1 2 3 5 8 13 21 \n"
     ]
    }
   ],
   "source": [
    "# Procedural Approach\n",
    "\n",
    "n = int(input(\"Enter the number of nth terms to display: \"))\n",
    "a = 0\n",
    "b = 1\n",
    "\n",
    "for i in range(1, n+1):\n",
    "    c = a + b\n",
    "    print(a, end=\" \")\n",
    "    a = b\n",
    "    b = c\n",
    "print()"
   ]
  },
  {
   "cell_type": "code",
   "execution_count": 43,
   "id": "b039b370",
   "metadata": {},
   "outputs": [
    {
     "name": "stdout",
     "output_type": "stream",
     "text": [
      "0 1 1 2 3 5 8 13 21\n"
     ]
    }
   ],
   "source": [
    "# Functional Approach\n",
    "def fibonacci_sequence(n):\n",
    "    a = 0\n",
    "    b = 1\n",
    "\n",
    "    for i in range(1, n):\n",
    "        c = a + b\n",
    "        print(a, end=\" \")\n",
    "        a = b\n",
    "        b = c\n",
    "    return a\n",
    "\n",
    "# main\n",
    "print(fibonacci_sequence(9))\n"
   ]
  },
  {
   "cell_type": "raw",
   "id": "18aeb9af",
   "metadata": {},
   "source": [
    "# 5. Write a Program to find factorial of the given number."
   ]
  },
  {
   "cell_type": "code",
   "execution_count": 5,
   "id": "ebb20834",
   "metadata": {},
   "outputs": [
    {
     "name": "stdout",
     "output_type": "stream",
     "text": [
      "Enter a number: 6\n",
      "The factorial of 6 is 720\n"
     ]
    }
   ],
   "source": [
    "# Procedural Approach\n",
    "num = int(input(\"Enter a number: \"))    \n",
    "fact = 1    \n",
    "if num < 0:    \n",
    "    print(\" Factorial does not exist for negative numbers\")    \n",
    "elif num == 0:    \n",
    "    print(\"The factorial of 0 is 1\")    \n",
    "else:    \n",
    "    for i in range(1,num + 1):    \n",
    "        fact = fact*i    \n",
    "    print(f\"The factorial of {num} is {fact}\")    "
   ]
  },
  {
   "cell_type": "code",
   "execution_count": 6,
   "id": "79aff416",
   "metadata": {},
   "outputs": [
    {
     "name": "stdout",
     "output_type": "stream",
     "text": [
      "Enter number :6\n",
      "Factorial of 6 is : 720\n"
     ]
    }
   ],
   "source": [
    "# Functional Approach\n",
    "def factorial(n):\n",
    "    if (n==1 or n==0):\n",
    "        return 1\n",
    "    else:\n",
    "        return n * factorial(n - 1) \n",
    "\n",
    "# main\n",
    "number = int(input(\"Enter number :\"))\n",
    "print(\"Factorial of\",number,\"is :\",factorial(number))\n"
   ]
  },
  {
   "cell_type": "raw",
   "id": "c697ea6d",
   "metadata": {},
   "source": [
    "# 6. Write a Program to find sum of the following series for n terms: 1 – 2/2! + 3/3! - - - - -n/n! "
   ]
  },
  {
   "cell_type": "raw",
   "id": "15e53a7e",
   "metadata": {},
   "source": [
    "# 7. Write a Program to calculate the sum and product of two compatible matrices."
   ]
  },
  {
   "cell_type": "code",
   "execution_count": 17,
   "id": "e7d160d3",
   "metadata": {},
   "outputs": [
    {
     "name": "stdout",
     "output_type": "stream",
     "text": [
      "[2 4 6]\n",
      "[ 8 10 12]\n",
      "[14 16 18]\n"
     ]
    }
   ],
   "source": [
    "# using List\n",
    "a = [[1,2,3],\n",
    "    [4 ,5,6],\n",
    "    [7 ,8,9]]\n",
    "b = [[1,2,3],\n",
    "    [4,5,6],\n",
    "    [7,8,9]]\n",
    "\n",
    "for i in range(len(a)):   \n",
    "    for j in range(len(a[0])):\n",
    "        result[i][j] = a[i][j] + b[i][j]\n",
    "for i in result:\n",
    "    print(i)"
   ]
  },
  {
   "cell_type": "code",
   "execution_count": 13,
   "id": "8ecb70d6",
   "metadata": {},
   "outputs": [
    {
     "name": "stdout",
     "output_type": "stream",
     "text": [
      "[[ 2  4  6]\n",
      " [ 8 10 12]\n",
      " [14 16 18]]\n"
     ]
    }
   ],
   "source": [
    "#using numpy\n",
    "import numpy as np\n",
    "  \n",
    "a = [[1,2,3],\n",
    "    [4 ,5,6],\n",
    "    [7 ,8,9]]\n",
    "b = [[1,2,3],\n",
    "    [4,5,6],\n",
    "    [7,8,9]]\n",
    " \n",
    "result = np.array(a) + np.array(b)\n",
    " \n",
    "print(result)"
   ]
  },
  {
   "cell_type": "code",
   "execution_count": 18,
   "id": "1044c9fb",
   "metadata": {},
   "outputs": [
    {
     "ename": "ModuleNotFoundError",
     "evalue": "No module named 'mysql'",
     "output_type": "error",
     "traceback": [
      "\u001b[0;31m---------------------------------------------------------------------------\u001b[0m",
      "\u001b[0;31mModuleNotFoundError\u001b[0m                       Traceback (most recent call last)",
      "Cell \u001b[0;32mIn[18], line 1\u001b[0m\n\u001b[0;32m----> 1\u001b[0m \u001b[38;5;28;01mimport\u001b[39;00m \u001b[38;5;21;01mmysql\u001b[39;00m\u001b[38;5;21;01m.\u001b[39;00m\u001b[38;5;21;01mconnector\u001b[39;00m\n\u001b[1;32m      3\u001b[0m [\u001b[38;5;28mstr\u001b[39m(x) \u001b[38;5;28;01mfor\u001b[39;00m x \u001b[38;5;129;01min\u001b[39;00m \u001b[38;5;28minput\u001b[39m(\u001b[38;5;124m\"\u001b[39m\u001b[38;5;124mEnter localhost , username , password , database_name (seperated by comma) : \u001b[39m\u001b[38;5;124m\"\u001b[39m)\u001b[38;5;241m.\u001b[39msplit(\u001b[38;5;124m\"\u001b[39m\u001b[38;5;124m,\u001b[39m\u001b[38;5;124m\"\u001b[39m)]\n\u001b[1;32m      4\u001b[0m mydb \u001b[38;5;241m=\u001b[39m mysql\u001b[38;5;241m.\u001b[39mconnector\u001b[38;5;241m.\u001b[39mconnect(\n\u001b[1;32m      5\u001b[0m   host \u001b[38;5;241m=\u001b[39m \u001b[38;5;124m\"\u001b[39m\u001b[38;5;124mlocalhost\u001b[39m\u001b[38;5;124m\"\u001b[39m,\n\u001b[1;32m      6\u001b[0m   user \u001b[38;5;241m=\u001b[39m \u001b[38;5;124m\"\u001b[39m\u001b[38;5;124musername\u001b[39m\u001b[38;5;124m\"\u001b[39m,\n\u001b[1;32m      7\u001b[0m   password \u001b[38;5;241m=\u001b[39m \u001b[38;5;124m\"\u001b[39m\u001b[38;5;124mpassword\u001b[39m\u001b[38;5;124m\"\u001b[39m,\n\u001b[1;32m      8\u001b[0m   database \u001b[38;5;241m=\u001b[39m \u001b[38;5;124m\"\u001b[39m\u001b[38;5;124mdatabase_name\u001b[39m\u001b[38;5;124m\"\u001b[39m\n\u001b[1;32m      9\u001b[0m )\n",
      "\u001b[0;31mModuleNotFoundError\u001b[0m: No module named 'mysql'"
     ]
    }
   ],
   "source": [
    "import mysql.connector\n",
    " \n",
    "[str(x) for x in input(\"Enter localhost , username , password , database_name (seperated by comma) : \").split(\",\")]\n",
    "mydb = mysql.connector.connect(\n",
    "  host = \"localhost\",\n",
    "  user = \"username\",\n",
    "  password = \"password\",\n",
    "  database = \"database_name\"\n",
    ") "
   ]
  }
 ],
 "metadata": {
  "kernelspec": {
   "display_name": "Python 3 (ipykernel)",
   "language": "python",
   "name": "python3"
  },
  "language_info": {
   "codemirror_mode": {
    "name": "ipython",
    "version": 3
   },
   "file_extension": ".py",
   "mimetype": "text/x-python",
   "name": "python",
   "nbconvert_exporter": "python",
   "pygments_lexer": "ipython3",
   "version": "3.11.5"
  }
 },
 "nbformat": 4,
 "nbformat_minor": 5
}
