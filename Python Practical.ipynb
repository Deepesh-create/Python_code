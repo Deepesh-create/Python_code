{
 "cells": [
  {
   "cell_type": "markdown",
   "id": "088a31ea",
   "metadata": {},
   "source": [
    "# Python Practical code"
   ]
  },
  {
   "cell_type": "raw",
   "id": "12e51310",
   "metadata": {},
   "source": [
    "# 1. Write a menu driven program to convert the given temperature from Fahrenheit to Celsius and vice versa depending upon users choice."
   ]
  },
  {
   "cell_type": "code",
   "execution_count": null,
   "id": "caa98892",
   "metadata": {},
   "outputs": [],
   "source": [
    "print(\"1. Celsius to Fahrenheit.\")\n",
    "print(\"2. Fahrenheit to Celsius.\")\n",
    "choice = int(input(\"Enter your choice : \"))\n",
    "if choice == 1:\n",
    "    celsius = float(input(\"Enter temperature in celsius: \"))\n",
    "    fahrenheit = (celsius * 9/5) + 32\n",
    "    print('%0.2f Celsius is: %0.2f Fahrenheit' %(celsius, fahrenheit))\n",
    "\n",
    "elif choice == 2:\n",
    "    fahrenheit = float(input(\"Enter temperature in fahrenheit: \"))\n",
    "    celsius = (fahrenheit - 32) * 5/9\n",
    "    print('%0.2f Fahrenheit is: %0.2f Celsius' %(fahrenheit, celsius))\n",
    "else:\n",
    "    print(\"Invalid Choice\")"
   ]
  },
  {
   "cell_type": "raw",
   "id": "7f629c6b",
   "metadata": {},
   "source": [
    "# 2. Write a Program to calculate total marks, percentage and grade of a student. Marks obtained in each of the three subjects are to be input by the user. Assign grades according to  the following criteria:\n",
    "Grade A: Percentage >=80\n",
    "Grade B: Percentage>=70 and <80\n",
    "Grade C: Percentage>=60 and <70\n",
    "Grade D: Percentage>=40 and <60\n",
    "Grade E: Percentage<40"
   ]
  },
  {
   "cell_type": "code",
   "execution_count": null,
   "id": "01376fe1",
   "metadata": {},
   "outputs": [],
   "source": [
    "mark_1 , mark_2 , mark_3 = [eval(x) for x in input(\"Enter marks of three subjects (seperated by comma) : \").split(\",\")]\n",
    "Total_marks = mark_1 + mark_2 + mark_3\n",
    "Average = Total_marks/3\n",
    "Percentage = (Total_marks/300)*100\n",
    "print(Percentage)\n",
    "if Percentage >= 80:\n",
    "    print(\"Grade A\")\n",
    "elif Percentage >= 70:\n",
    "    print(\"Grade B\")\n",
    "elif Percentage >= 60:\n",
    "    print(\"Grade c\")\n",
    "elif Percentage >= 40:\n",
    "    print(\"Grade D\")\n",
    "else:\n",
    "    print(\"Grade E\")"
   ]
  },
  {
   "cell_type": "raw",
   "id": "3f584c68",
   "metadata": {},
   "source": [
    "# 3. Write a menu-driven program, using user-defined functions to find the area of rectangle, square, circle and triangle by accepting suitable input parameters from user."
   ]
  },
  {
   "cell_type": "code",
   "execution_count": null,
   "id": "f609f475",
   "metadata": {
    "scrolled": true
   },
   "outputs": [],
   "source": [
    "import math\n",
    "\n",
    "def area_rectangle(length, breadth):\n",
    "    area = length * breadth\n",
    "    return area\n",
    "\n",
    "def area_square(side):\n",
    "    area = pow(side,2)\n",
    "    return area\n",
    "\n",
    "def area_circle(r):\n",
    "    per = (math.pi * r * r)\n",
    "    return round(per, 2)\n",
    "\n",
    "def area_triangleSide(a, b, c):\n",
    "    s = (a + b + c) / 2\n",
    "    area = math.sqrt(s * (s - a) * (s - b) * (s - c))\n",
    "    return round(area,2)\n",
    "\n",
    "#main\n",
    "\n",
    "print(\"On which geometric shape would you like to operate on?\")\n",
    "print(\"1. Rectangle \")\n",
    "print(\"2. Square \")\n",
    "print(\"3. Circle \")\n",
    "print(\"4. Triangle \")\n",
    "\n",
    "inp = int(input(\"Enter your choice(1-4) : \"))\n",
    "\n",
    "if(inp == 1):\n",
    "    a = float(input(\"Enter the length of the rectangle: \"))\n",
    "    b = float(input(\"Enter the breadth of the rectangle: \"))\n",
    "    res = area_rectangle(a,b)\n",
    "    print(\"Area of rectangle with sides\",a,\",\",b,\" is \",res)\n",
    "\n",
    "elif(inp == 2):\n",
    "    a = float(input(\"Enter the side of the square: \"))\n",
    "    res = area_square(a)\n",
    "    print(\"Area of square with side\",a,\" is \",res)\n",
    "\n",
    "elif(inp == 3):\n",
    "    a = float(input(\"Enter the radius of the circle: \"))\n",
    "    res = area_circle(a)\n",
    "    print(\"Area of the circle with radius\",a,\" is \",res)\n",
    "\n",
    "elif(inp == 4):\n",
    "    a = float(input(\"Enter the side 1 of triangle: \"))\n",
    "    b = float(input(\"Enter the side 2 of triangle: \"))\n",
    "    c = float(input(\"Enter the side 3 of triangle: \"))\n",
    "    res = area_triangleSide(a, b, c)\n",
    "    print(\"Area of triangle with sides:\",a,\",\",b,\",\",c,\" is \",res)\n",
    "    \n",
    "else:\n",
    "    print(\"Invalid Input !!!\")"
   ]
  },
  {
   "cell_type": "raw",
   "id": "327ddaaf",
   "metadata": {},
   "source": [
    "# 4. Write a Program to display the first n terms of Fibonacci series."
   ]
  },
  {
   "cell_type": "code",
   "execution_count": null,
   "id": "951987d1",
   "metadata": {},
   "outputs": [],
   "source": [
    "# Procedural Approach\n",
    "\n",
    "n = int(input(\"Enter the number of nth terms to display: \"))\n",
    "a = 0\n",
    "b = 1\n",
    "\n",
    "for i in range(1, n+1):\n",
    "    c = a + b\n",
    "    print(a, end=\" \")\n",
    "    a = b\n",
    "    b = c\n",
    "print()"
   ]
  },
  {
   "cell_type": "code",
   "execution_count": null,
   "id": "b039b370",
   "metadata": {},
   "outputs": [],
   "source": [
    "# Functional Approach\n",
    "def fibonacci_sequence(n):\n",
    "    a = 0\n",
    "    b = 1\n",
    "\n",
    "    for i in range(1, n):\n",
    "        c = a + b\n",
    "        print(a, end=\" \")\n",
    "        a = b\n",
    "        b = c\n",
    "    return a\n",
    "\n",
    "# main\n",
    "print(fibonacci_sequence(9))\n"
   ]
  },
  {
   "cell_type": "raw",
   "id": "18aeb9af",
   "metadata": {},
   "source": [
    "# 5. Write a Program to find factorial of the given number."
   ]
  },
  {
   "cell_type": "code",
   "execution_count": null,
   "id": "ebb20834",
   "metadata": {},
   "outputs": [],
   "source": [
    "# Procedural Approach\n",
    "num = int(input(\"Enter a number: \"))    \n",
    "fact = 1    \n",
    "if num < 0:    \n",
    "    print(\" Factorial does not exist for negative numbers\")    \n",
    "elif num == 0:    \n",
    "    print(\"The factorial of 0 is 1\")    \n",
    "else:    \n",
    "    for i in range(1,num + 1):    \n",
    "        fact = fact*i    \n",
    "    print(f\"The factorial of {num} is {fact}\")    "
   ]
  },
  {
   "cell_type": "code",
   "execution_count": null,
   "id": "79aff416",
   "metadata": {},
   "outputs": [],
   "source": [
    "# Functional Approach\n",
    "def factorial(n):\n",
    "    if (n==1 or n==0):\n",
    "        return 1\n",
    "    else:\n",
    "        return n * factorial(n - 1) \n",
    "\n",
    "# main\n",
    "number = int(input(\"Enter number :\"))\n",
    "print(\"Factorial of\",number,\"is :\",factorial(number))\n"
   ]
  },
  {
   "cell_type": "raw",
   "id": "c697ea6d",
   "metadata": {},
   "source": [
    "# 6. Write a Program to find sum of the following series for n terms: 1 – 2/2! + 3/3! - - - - -n/n! "
   ]
  },
  {
   "cell_type": "code",
   "execution_count": null,
   "id": "1044c9fb",
   "metadata": {},
   "outputs": [],
   "source": []
  },
  {
   "cell_type": "raw",
   "id": "15e53a7e",
   "metadata": {},
   "source": [
    "# 7. Write a Program to calculate the sum and product of two compatible matrices."
   ]
  },
  {
   "cell_type": "code",
   "execution_count": null,
   "id": "e7d160d3",
   "metadata": {},
   "outputs": [],
   "source": [
    "# using List\n",
    "a = [[1,2,3],\n",
    "    [4 ,5,6],\n",
    "    [7 ,8,9]]\n",
    "b = [[1,2,3],\n",
    "    [4,5,6],\n",
    "    [7,8,9]]\n",
    "\n",
    "for i in range(len(a)):   \n",
    "    for j in range(len(a[0])):\n",
    "        result[i][j] = a[i][j] + b[i][j]\n",
    "for i in result:\n",
    "    print(i)"
   ]
  },
  {
   "cell_type": "code",
   "execution_count": null,
   "id": "8ecb70d6",
   "metadata": {},
   "outputs": [],
   "source": [
    "#using numpy\n",
    "import numpy as np\n",
    "  \n",
    "a = [[1,2,3],\n",
    "    [4 ,5,6],\n",
    "    [7 ,8,9]]\n",
    "b = [[1,2,3],\n",
    "    [4,5,6],\n",
    "    [7,8,9]]\n",
    " \n",
    "result = np.array(a) + np.array(b)\n",
    " \n",
    "print(result)"
   ]
  },
  {
   "cell_type": "code",
   "execution_count": null,
   "id": "c9b40b47",
   "metadata": {},
   "outputs": [],
   "source": []
  }
 ],
 "metadata": {
  "kernelspec": {
   "display_name": "Python 3 (ipykernel)",
   "language": "python",
   "name": "python3"
  },
  "language_info": {
   "codemirror_mode": {
    "name": "ipython",
    "version": 3
   },
   "file_extension": ".py",
   "mimetype": "text/x-python",
   "name": "python",
   "nbconvert_exporter": "python",
   "pygments_lexer": "ipython3",
   "version": "3.11.5"
  }
 },
 "nbformat": 4,
 "nbformat_minor": 5
}
