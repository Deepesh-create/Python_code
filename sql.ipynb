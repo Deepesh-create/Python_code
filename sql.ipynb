{
 "cells": [
  {
   "cell_type": "code",
   "execution_count": null,
   "id": "689396a0",
   "metadata": {},
   "outputs": [],
   "source": [
    "## for download the mysql connector \n",
    "!pip install mysql-connector-python"
   ]
  },
  {
   "cell_type": "code",
   "execution_count": null,
   "id": "c5d7cec6",
   "metadata": {},
   "outputs": [],
   "source": [
    "import mysql.connector as conn"
   ]
  },
  {
   "cell_type": "code",
   "execution_count": null,
   "id": "20f2752c",
   "metadata": {},
   "outputs": [],
   "source": [
    "db = conn.connect(host = \"localhost\" , user = \"root\" , passwd = \"root\")\n",
    "\n",
    "print(\"Database is connected at : \",db)\n",
    "\n",
    "cursor_object = db.cursor()\n",
    "print(\"Sucessfully created cursor object\") \n",
    "\n",
    "cursor_object.close()\n",
    "print(\"Sucessfully closed the cursor object\")\n",
    "\n",
    "db.close()\n",
    "print(\"Sucessfully closed the database connection\")"
   ]
  },
  {
   "cell_type": "markdown",
   "id": "63233809",
   "metadata": {},
   "source": [
    "# code for creating a database"
   ]
  },
  {
   "cell_type": "code",
   "execution_count": null,
   "id": "35346520",
   "metadata": {},
   "outputs": [],
   "source": [
    "db_name = input(\"Enter the database name : \")\n",
    "db = conn.connect(host = \"localhost\" , user = \"root\" , passwd = \"root\")\n",
    "\n",
    "print(\"Database is connected at : \",db)\n",
    "\n",
    "cursor_object = db.cursor()\n",
    "print(\"Sucessfully created cursor object\") \n",
    "\n",
    "cursor_object.execute(f\"CREATE DATABASE {db_name}\")\n",
    "print(f\"Sucessfully created {db_name} Database\")\n",
    "\n",
    "cursor_object.close()\n",
    "print(\"Sucessfully closed the cursor object\")\n",
    "\n",
    "db.close()\n",
    "print(\"Sucessfully closed the database connection\")"
   ]
  },
  {
   "cell_type": "markdown",
   "id": "4f0f83af",
   "metadata": {},
   "source": [
    "# code for creating a table in the given database"
   ]
  },
  {
   "cell_type": "code",
   "execution_count": null,
   "id": "24b28c4c",
   "metadata": {},
   "outputs": [],
   "source": [
    "db_name = input(\"Enter the database name : \")\n",
    "table_name = input(\"Enter the table name : \")\n",
    "db = conn.connect(host = \"localhost\" , user = \"root\" , passwd = \"root\" , database = db_name)\n",
    "\n",
    "print(\"Database is connected at : \",db)\n",
    "\n",
    "cursor_object = db.cursor()\n",
    "print(\"Sucessfully created cursor object\") \n",
    "\n",
    "studentRecord = f\"\"\"CREATE TABLE {table_name} (\n",
    "                   NAME  VARCHAR(20) NOT NULL,\n",
    "                   BRANCH VARCHAR(50),\n",
    "                   ROLL INT NOT NULL,\n",
    "                   SECTION VARCHAR(5),\n",
    "                   AGE INT\n",
    "                   )\"\"\"\n",
    "  \n",
    "# table created\n",
    "cursor_object.execute(studentRecord)\n",
    "print(f\"Sucessfully created {table_name} Database\")\n",
    "\n",
    "cursor_object.close()\n",
    "print(\"Sucessfully closed the cursor object\")\n",
    "\n",
    "db.close()\n",
    "print(\"Sucessfully closed the database connection\")"
   ]
  },
  {
   "cell_type": "markdown",
   "id": "6ae2ecd0",
   "metadata": {},
   "source": [
    "# code for inserting an element in the database"
   ]
  },
  {
   "cell_type": "code",
   "execution_count": null,
   "id": "888bb440",
   "metadata": {},
   "outputs": [],
   "source": [
    "db = conn.connect(host =\"localhost\",user =\"root\", passwd =\"root\", database = db_name)\n",
    "\n",
    "cursor_object = db.cursor()\n",
    "\n",
    "sql = \"INSERT INTO STUDENT (NAME, BRANCH, ROLL, SECTION, AGE)\\\n",
    "VALUES (%s, %s, %s, %s, %s)\"\n",
    "val = (\"Ram\", \"CSE\", \"85\", \"B\", \"19\")\n",
    "\n",
    "cursor_object.execute(sql, val)\n",
    "db.commit()\n",
    "\n",
    "# disconnecting from server\n",
    "db.close()\n"
   ]
  },
  {
   "cell_type": "markdown",
   "id": "621f1bd7",
   "metadata": {},
   "source": [
    "# code for inserting multiple elements in the database"
   ]
  },
  {
   "cell_type": "code",
   "execution_count": null,
   "id": "daacf5c3",
   "metadata": {},
   "outputs": [],
   "source": [
    "db = conn.connect(host =\"localhost\",user =\"root\", passwd =\"root\", database = db_name)\n",
    "\n",
    "cursor_object = db.cursor()\n",
    "\n",
    "sql = \"INSERT INTO STUDENT (NAME, BRANCH, ROLL, SECTION, AGE)\\\n",
    "VALUES (%s, %s, %s, %s, %s)\"\n",
    "val = [(\"Nikhil\", \"CSE\", \"98\", \"A\", \"18\"),\n",
    "       (\"Nisha\", \"CSE\", \"99\", \"A\", \"18\"),\n",
    "       (\"Rohan\", \"MAE\", \"43\", \"B\", \"20\"),\n",
    "       (\"Amit\", \"ECE\", \"24\", \"A\", \"21\"),\n",
    "       (\"Anil\", \"MAE\", \"45\", \"B\", \"20\"), \n",
    "       (\"Megha\", \"ECE\", \"55\", \"A\", \"22\"), \n",
    "       (\"Sita\", \"CSE\", \"95\", \"A\", \"19\")]\n",
    "\n",
    "cursor_object.executemany(sql, val)\n",
    "db.commit()\n",
    "\n",
    "\n",
    "db.close()"
   ]
  },
  {
   "cell_type": "markdown",
   "id": "a63977eb",
   "metadata": {},
   "source": [
    "# code for fetch/extraxt/print elements from the database"
   ]
  },
  {
   "cell_type": "code",
   "execution_count": null,
   "id": "5a5d9f88",
   "metadata": {},
   "outputs": [],
   "source": [
    "db = conn.connect(host =\"localhost\",user =\"root\", passwd =\"root\", database = db_name)\n",
    "\n",
    "cursor_object = db.cursor()\n",
    "\n",
    "query = \"SELECT NAME, ROLL FROM STUDENT\"\n",
    "cursor_object.execute(query)\n",
    "\n",
    "res = cursorObject.fetchall()\n",
    "\n",
    "for x in res:\n",
    "    print(x)\n",
    "    \n",
    "# disconnecting from server\n",
    "db.close()"
   ]
  }
 ],
 "metadata": {
  "kernelspec": {
   "display_name": "Python 3 (ipykernel)",
   "language": "python",
   "name": "python3"
  },
  "language_info": {
   "codemirror_mode": {
    "name": "ipython",
    "version": 3
   },
   "file_extension": ".py",
   "mimetype": "text/x-python",
   "name": "python",
   "nbconvert_exporter": "python",
   "pygments_lexer": "ipython3",
   "version": "3.11.5"
  }
 },
 "nbformat": 4,
 "nbformat_minor": 5
}
