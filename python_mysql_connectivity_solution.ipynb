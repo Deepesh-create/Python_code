{
 "cells": [
  {
   "cell_type": "code",
   "execution_count": 11,
   "id": "769bb569",
   "metadata": {},
   "outputs": [
    {
     "name": "stdout",
     "output_type": "stream",
     "text": [
      "Defaulting to user installation because normal site-packages is not writeable\n",
      "Requirement already satisfied: mysql-connector-python in c:\\programdata\\anaconda3\\lib\\site-packages (8.2.0)\n",
      "Requirement already satisfied: protobuf<=4.21.12,>=4.21.1 in c:\\programdata\\anaconda3\\lib\\site-packages (from mysql-connector-python) (4.21.12)\n"
     ]
    }
   ],
   "source": [
    "## for download the mysql connector \n",
    "!pip install mysql-connector-python"
   ]
  },
  {
   "cell_type": "code",
   "execution_count": 12,
   "id": "dee864df",
   "metadata": {},
   "outputs": [],
   "source": [
    "import mysql.connector as conn"
   ]
  },
  {
   "cell_type": "code",
   "execution_count": 13,
   "id": "3f93c58c",
   "metadata": {},
   "outputs": [
    {
     "name": "stdout",
     "output_type": "stream",
     "text": [
      "Database is connected at :  <mysql.connector.connection_cext.CMySQLConnection object at 0x000002C7EC301550>\n",
      "Sucessfully created cursor object\n",
      "Sucessfully closed the cursor object\n",
      "Sucessfully closed the database connection\n"
     ]
    }
   ],
   "source": [
    "db = conn.connect(host = \"localhost\" , user = \"root\" , passwd = \"root\")\n",
    "\n",
    "print(\"Database is connected at : \",db)\n",
    "\n",
    "cursor_object = db.cursor()\n",
    "print(\"Sucessfully created cursor object\") \n",
    "\n",
    "cursor_object.close()\n",
    "print(\"Sucessfully closed the cursor object\")\n",
    "\n",
    "db.close()\n",
    "print(\"Sucessfully closed the database connection\")"
   ]
  },
  {
   "cell_type": "markdown",
   "id": "a93efdbb",
   "metadata": {},
   "source": [
    "# code for creating a database"
   ]
  },
  {
   "cell_type": "code",
   "execution_count": 14,
   "id": "5b3c5261",
   "metadata": {},
   "outputs": [
    {
     "name": "stdout",
     "output_type": "stream",
     "text": [
      "Enter the database name : DSM\n",
      "Database is connected at :  <mysql.connector.connection_cext.CMySQLConnection object at 0x000002C7EB33D350>\n",
      "Sucessfully created cursor object\n",
      "Sucessfully created DSM Database\n",
      "Sucessfully closed the cursor object\n",
      "Sucessfully closed the database connection\n"
     ]
    }
   ],
   "source": [
    "db_name = input(\"Enter the database name : \")\n",
    "db = conn.connect(host = \"localhost\" , user = \"root\" , passwd = \"root\")\n",
    "\n",
    "print(\"Database is connected at : \",db)\n",
    "\n",
    "cursor_object = db.cursor()\n",
    "print(\"Sucessfully created cursor object\") \n",
    "\n",
    "cursor_object.execute(f\"CREATE DATABASE {db_name}\")\n",
    "print(f\"Sucessfully created {db_name} Database\")\n",
    "\n",
    "cursor_object.close()\n",
    "print(\"Sucessfully closed the cursor object\")\n",
    "\n",
    "db.close()\n",
    "print(\"Sucessfully closed the database connection\")"
   ]
  },
  {
   "cell_type": "markdown",
   "id": "91906e60",
   "metadata": {},
   "source": [
    "# code for creating a table in the given database"
   ]
  },
  {
   "cell_type": "code",
   "execution_count": 15,
   "id": "1345beda",
   "metadata": {},
   "outputs": [
    {
     "name": "stdout",
     "output_type": "stream",
     "text": [
      "Enter the database name : DSM\n",
      "Database is connected at :  <mysql.connector.connection_cext.CMySQLConnection object at 0x000002C7EB33C810>\n",
      "Sucessfully created cursor object\n",
      "Sucessfully created the table\n",
      "Sucessfully closed the cursor object\n",
      "Sucessfully closed the database connection\n"
     ]
    }
   ],
   "source": [
    "import mysql.connector as conn\n",
    "db_name = input(\"Enter the database name : \")\n",
    "db = conn.connect(host = \"localhost\" , user = \"root\" , passwd = \"root\" , database = db_name)\n",
    "\n",
    "print(\"Database is connected at : \",db)\n",
    "\n",
    "cursor_object = db.cursor()\n",
    "print(\"Sucessfully created cursor object\") \n",
    "\n",
    "studentRecord = \"\"\"CREATE TABLE STUDENT (\n",
    "                   NAME  VARCHAR(20) NOT NULL,\n",
    "                   BRANCH VARCHAR(50),\n",
    "                   ROLL INT NOT NULL,\n",
    "                   SECTION VARCHAR(5),\n",
    "                   AGE INT\n",
    "                   )\"\"\"\n",
    "  \n",
    "# table created\n",
    "cursor_object.execute(studentRecord)\n",
    "print(\"Sucessfully created the table\")\n",
    "\n",
    "cursor_object.close()\n",
    "print(\"Sucessfully closed the cursor object\")\n",
    "\n",
    "db.close()\n",
    "print(\"Sucessfully closed the database connection\")"
   ]
  },
  {
   "cell_type": "markdown",
   "id": "09096e74",
   "metadata": {},
   "source": [
    "# code for inserting an element in the database"
   ]
  },
  {
   "cell_type": "code",
   "execution_count": 16,
   "id": "be197a8c",
   "metadata": {},
   "outputs": [
    {
     "name": "stdout",
     "output_type": "stream",
     "text": [
      "Sucessfully inserted the data :  ('Ram', 'CSE', '85', 'B', '19')\n",
      "commited\n",
      "connection terminated\n"
     ]
    }
   ],
   "source": [
    "import mysql.connector as conn\n",
    "\n",
    "db = conn.connect(host =\"localhost\",user =\"root\", passwd =\"root\", database = db_name)\n",
    "\n",
    "cursor_object = db.cursor()\n",
    "\n",
    "sql = \"INSERT INTO STUDENT (NAME, BRANCH, ROLL, SECTION, AGE)\\\n",
    "VALUES (%s, %s, %s, %s, %s)\"\n",
    "val = (\"Ram\", \"CSE\", \"85\", \"B\", \"19\")\n",
    "\n",
    "cursor_object.execute(sql, val)\n",
    "print(\"Sucessfully inserted the data : \",val)\n",
    "db.commit()\n",
    "print(\"commited\")\n",
    "\n",
    "# disconnecting from server\n",
    "db.close()\n",
    "print(\"connection terminated\")\n"
   ]
  },
  {
   "cell_type": "markdown",
   "id": "f313c1b3",
   "metadata": {},
   "source": [
    "# code for inserting multiple elements in the database"
   ]
  },
  {
   "cell_type": "code",
   "execution_count": 17,
   "id": "d496fded",
   "metadata": {},
   "outputs": [
    {
     "name": "stdout",
     "output_type": "stream",
     "text": [
      "Sucessfully inserted the data :  [('Nikhil', 'CSE', '98', 'A', '18'), ('Nisha', 'CSE', '99', 'A', '18'), ('Rohan', 'MAE', '43', 'B', '20'), ('Amit', 'ECE', '24', 'A', '21'), ('Anil', 'MAE', '45', 'B', '20'), ('Megha', 'ECE', '55', 'A', '22'), ('Sita', 'CSE', '95', 'A', '19')]\n",
      "commited\n",
      "connection terminated\n"
     ]
    }
   ],
   "source": [
    "db = conn.connect(host =\"localhost\",user =\"root\", passwd =\"root\", database = db_name)\n",
    "\n",
    "cursor_object = db.cursor()\n",
    "\n",
    "sql = \"INSERT INTO STUDENT (NAME, BRANCH, ROLL, SECTION, AGE)\\\n",
    "VALUES (%s, %s, %s, %s, %s)\"\n",
    "val = [(\"Nikhil\", \"CSE\", \"98\", \"A\", \"18\"),\n",
    "       (\"Nisha\", \"CSE\", \"99\", \"A\", \"18\"),\n",
    "       (\"Rohan\", \"MAE\", \"43\", \"B\", \"20\"),\n",
    "       (\"Amit\", \"ECE\", \"24\", \"A\", \"21\"),\n",
    "       (\"Anil\", \"MAE\", \"45\", \"B\", \"20\"), \n",
    "       (\"Megha\", \"ECE\", \"55\", \"A\", \"22\"), \n",
    "       (\"Sita\", \"CSE\", \"95\", \"A\", \"19\")]\n",
    "\n",
    "cursor_object.executemany(sql, val)\n",
    "print(\"Sucessfully inserted the data : \" , val)\n",
    "db.commit()\n",
    "print(\"commited\")\n",
    "\n",
    "db.close()\n",
    "print(\"connection terminated\")"
   ]
  },
  {
   "cell_type": "markdown",
   "id": "04414962",
   "metadata": {},
   "source": [
    "# code for fetch/extraxt/print elements from the database"
   ]
  },
  {
   "cell_type": "code",
   "execution_count": 18,
   "id": "04cc01a7",
   "metadata": {},
   "outputs": [
    {
     "name": "stdout",
     "output_type": "stream",
     "text": [
      "('Ram', 85)\n",
      "('Nikhil', 98)\n",
      "('Nisha', 99)\n",
      "('Rohan', 43)\n",
      "('Amit', 24)\n",
      "('Anil', 45)\n",
      "('Megha', 55)\n",
      "('Sita', 95)\n",
      "connection terminated\n"
     ]
    }
   ],
   "source": [
    "db = conn.connect(host =\"localhost\",user =\"root\", passwd =\"root\", database = db_name)\n",
    "\n",
    "cursor_object = db.cursor()\n",
    "\n",
    "query = \"SELECT NAME, ROLL FROM STUDENT\"\n",
    "cursor_object.execute(query)\n",
    "\n",
    "res = cursor_object.fetchall()\n",
    "\n",
    "for x in res:\n",
    "    print(x)\n",
    "    \n",
    "# disconnecting from server\n",
    "db.close()\n",
    "print(\"connection terminated\")"
   ]
  }
 ],
 "metadata": {
  "kernelspec": {
   "display_name": "Python 3 (ipykernel)",
   "language": "python",
   "name": "python3"
  },
  "language_info": {
   "codemirror_mode": {
    "name": "ipython",
    "version": 3
   },
   "file_extension": ".py",
   "mimetype": "text/x-python",
   "name": "python",
   "nbconvert_exporter": "python",
   "pygments_lexer": "ipython3",
   "version": "3.11.5"
  }
 },
 "nbformat": 4,
 "nbformat_minor": 5
}
